{
 "cells": [
  {
   "cell_type": "markdown",
   "metadata": {
    "id": "tTEIPvZa17tF"
   },
   "source": [
    "* `Pandas seaborn plotly 연습과제`\n",
    "- 과제는 평가의 목적이 아니라 배운 것을 연습하고 성장하는데 있습니다. 과제가 어렵다면 동료의 도움을 받거나 동료의 과제를 보고 따라해 보는 것을 적극 권장합니다.\n",
    "- <font color=\"red\">그래프 설정에 따라 선의 색상 등이 다르게 표시될 수 있으나 수치 값이 맞으면 제대로 과제를 진행한 것이니 걱정하지 않아도 됩니다. 궁금한 점은 강의실 수업 채널에 남겨주세요!</font>\n",
    "- 배운것의 느낌이나 해당 데이터셋을 통해 응용해 본것을 공유하는 것은 괜찮지만\n",
    "- 과제는 오늘코드의 저작물로 `전체 파일`을 블로그 깃헙 등에 그대로 업로드하거나 공유하는 것을 금지합니다."
   ]
  },
  {
   "cell_type": "code",
   "execution_count": 1,
   "metadata": {
    "id": "MmobfK6N17tJ"
   },
   "outputs": [],
   "source": [
    "# 테스트를 위해 아래 셀을 실행해 주세요.\n",
    "import pandas as pd\n",
    "import seaborn as sns\n",
    "import matplotlib.pyplot as plt\n",
    "import plotly.express as px\n",
    "\n",
    "%matplotlib inline"
   ]
  },
  {
   "cell_type": "code",
   "execution_count": 2,
   "metadata": {
    "id": "j1ZAY2VN17tK"
   },
   "outputs": [
    {
     "name": "stdout",
     "output_type": "stream",
     "text": [
      "(53940, 10)\n"
     ]
    },
    {
     "data": {
      "text/html": [
       "<div>\n",
       "<style scoped>\n",
       "    .dataframe tbody tr th:only-of-type {\n",
       "        vertical-align: middle;\n",
       "    }\n",
       "\n",
       "    .dataframe tbody tr th {\n",
       "        vertical-align: top;\n",
       "    }\n",
       "\n",
       "    .dataframe thead th {\n",
       "        text-align: right;\n",
       "    }\n",
       "</style>\n",
       "<table border=\"1\" class=\"dataframe\">\n",
       "  <thead>\n",
       "    <tr style=\"text-align: right;\">\n",
       "      <th></th>\n",
       "      <th>carat</th>\n",
       "      <th>cut</th>\n",
       "      <th>color</th>\n",
       "      <th>clarity</th>\n",
       "      <th>depth</th>\n",
       "      <th>table</th>\n",
       "      <th>price</th>\n",
       "      <th>x</th>\n",
       "      <th>y</th>\n",
       "      <th>z</th>\n",
       "    </tr>\n",
       "  </thead>\n",
       "  <tbody>\n",
       "    <tr>\n",
       "      <th>0</th>\n",
       "      <td>0.23</td>\n",
       "      <td>Ideal</td>\n",
       "      <td>E</td>\n",
       "      <td>SI2</td>\n",
       "      <td>61.5</td>\n",
       "      <td>55.0</td>\n",
       "      <td>326</td>\n",
       "      <td>3.95</td>\n",
       "      <td>3.98</td>\n",
       "      <td>2.43</td>\n",
       "    </tr>\n",
       "    <tr>\n",
       "      <th>1</th>\n",
       "      <td>0.21</td>\n",
       "      <td>Premium</td>\n",
       "      <td>E</td>\n",
       "      <td>SI1</td>\n",
       "      <td>59.8</td>\n",
       "      <td>61.0</td>\n",
       "      <td>326</td>\n",
       "      <td>3.89</td>\n",
       "      <td>3.84</td>\n",
       "      <td>2.31</td>\n",
       "    </tr>\n",
       "    <tr>\n",
       "      <th>2</th>\n",
       "      <td>0.23</td>\n",
       "      <td>Good</td>\n",
       "      <td>E</td>\n",
       "      <td>VS1</td>\n",
       "      <td>56.9</td>\n",
       "      <td>65.0</td>\n",
       "      <td>327</td>\n",
       "      <td>4.05</td>\n",
       "      <td>4.07</td>\n",
       "      <td>2.31</td>\n",
       "    </tr>\n",
       "    <tr>\n",
       "      <th>3</th>\n",
       "      <td>0.29</td>\n",
       "      <td>Premium</td>\n",
       "      <td>I</td>\n",
       "      <td>VS2</td>\n",
       "      <td>62.4</td>\n",
       "      <td>58.0</td>\n",
       "      <td>334</td>\n",
       "      <td>4.20</td>\n",
       "      <td>4.23</td>\n",
       "      <td>2.63</td>\n",
       "    </tr>\n",
       "    <tr>\n",
       "      <th>4</th>\n",
       "      <td>0.31</td>\n",
       "      <td>Good</td>\n",
       "      <td>J</td>\n",
       "      <td>SI2</td>\n",
       "      <td>63.3</td>\n",
       "      <td>58.0</td>\n",
       "      <td>335</td>\n",
       "      <td>4.34</td>\n",
       "      <td>4.35</td>\n",
       "      <td>2.75</td>\n",
       "    </tr>\n",
       "  </tbody>\n",
       "</table>\n",
       "</div>"
      ],
      "text/plain": [
       "   carat      cut color clarity  depth  table  price     x     y     z\n",
       "0   0.23    Ideal     E     SI2   61.5   55.0    326  3.95  3.98  2.43\n",
       "1   0.21  Premium     E     SI1   59.8   61.0    326  3.89  3.84  2.31\n",
       "2   0.23     Good     E     VS1   56.9   65.0    327  4.05  4.07  2.31\n",
       "3   0.29  Premium     I     VS2   62.4   58.0    334  4.20  4.23  2.63\n",
       "4   0.31     Good     J     SI2   63.3   58.0    335  4.34  4.35  2.75"
      ]
     },
     "execution_count": 2,
     "metadata": {},
     "output_type": "execute_result"
    }
   ],
   "source": [
    "df = sns.load_dataset(\"diamonds\")\n",
    "print(df.shape)\n",
    "df.head()"
   ]
  },
  {
   "cell_type": "markdown",
   "metadata": {
    "id": "uVozDVgG17tK"
   },
   "source": [
    "## 1. price 가 높은 순으로 정렬 한 후 상위 5개만 출력해 주세요.\n",
    "* 다음의 결과가 출력되도록 합니다.\n",
    "<table border=\"1\" class=\"dataframe\">\n",
    "  <thead>\n",
    "    <tr style=\"text-align: right;\">\n",
    "      <th></th>\n",
    "      <th>carat</th>\n",
    "      <th>cut</th>\n",
    "      <th>color</th>\n",
    "      <th>clarity</th>\n",
    "      <th>depth</th>\n",
    "      <th>table</th>\n",
    "      <th>price</th>\n",
    "      <th>x</th>\n",
    "      <th>y</th>\n",
    "      <th>z</th>\n",
    "    </tr>\n",
    "  </thead>\n",
    "  <tbody>\n",
    "    <tr>\n",
    "      <th>27749</th>\n",
    "      <td>2.29</td>\n",
    "      <td>Premium</td>\n",
    "      <td>I</td>\n",
    "      <td>VS2</td>\n",
    "      <td>60.8</td>\n",
    "      <td>60.0</td>\n",
    "      <td>18823</td>\n",
    "      <td>8.50</td>\n",
    "      <td>8.47</td>\n",
    "      <td>5.16</td>\n",
    "    </tr>\n",
    "    <tr>\n",
    "      <th>27748</th>\n",
    "      <td>2.00</td>\n",
    "      <td>Very Good</td>\n",
    "      <td>G</td>\n",
    "      <td>SI1</td>\n",
    "      <td>63.5</td>\n",
    "      <td>56.0</td>\n",
    "      <td>18818</td>\n",
    "      <td>7.90</td>\n",
    "      <td>7.97</td>\n",
    "      <td>5.04</td>\n",
    "    </tr>\n",
    "    <tr>\n",
    "      <th>27747</th>\n",
    "      <td>1.51</td>\n",
    "      <td>Ideal</td>\n",
    "      <td>G</td>\n",
    "      <td>IF</td>\n",
    "      <td>61.7</td>\n",
    "      <td>55.0</td>\n",
    "      <td>18806</td>\n",
    "      <td>7.37</td>\n",
    "      <td>7.41</td>\n",
    "      <td>4.56</td>\n",
    "    </tr>\n",
    "    <tr>\n",
    "      <th>27746</th>\n",
    "      <td>2.07</td>\n",
    "      <td>Ideal</td>\n",
    "      <td>G</td>\n",
    "      <td>SI2</td>\n",
    "      <td>62.5</td>\n",
    "      <td>55.0</td>\n",
    "      <td>18804</td>\n",
    "      <td>8.20</td>\n",
    "      <td>8.13</td>\n",
    "      <td>5.11</td>\n",
    "    </tr>\n",
    "    <tr>\n",
    "      <th>27745</th>\n",
    "      <td>2.00</td>\n",
    "      <td>Very Good</td>\n",
    "      <td>H</td>\n",
    "      <td>SI1</td>\n",
    "      <td>62.8</td>\n",
    "      <td>57.0</td>\n",
    "      <td>18803</td>\n",
    "      <td>7.95</td>\n",
    "      <td>8.00</td>\n",
    "      <td>5.01</td>\n",
    "    </tr>\n",
    "  </tbody>\n",
    "</table>"
   ]
  },
  {
   "cell_type": "code",
   "execution_count": 26,
   "metadata": {
    "id": "y3ULK2MP17tL"
   },
   "outputs": [
    {
     "data": {
      "text/html": [
       "<div>\n",
       "<style scoped>\n",
       "    .dataframe tbody tr th:only-of-type {\n",
       "        vertical-align: middle;\n",
       "    }\n",
       "\n",
       "    .dataframe tbody tr th {\n",
       "        vertical-align: top;\n",
       "    }\n",
       "\n",
       "    .dataframe thead th {\n",
       "        text-align: right;\n",
       "    }\n",
       "</style>\n",
       "<table border=\"1\" class=\"dataframe\">\n",
       "  <thead>\n",
       "    <tr style=\"text-align: right;\">\n",
       "      <th></th>\n",
       "      <th>carat</th>\n",
       "      <th>cut</th>\n",
       "      <th>color</th>\n",
       "      <th>clarity</th>\n",
       "      <th>depth</th>\n",
       "      <th>table</th>\n",
       "      <th>price</th>\n",
       "      <th>x</th>\n",
       "      <th>y</th>\n",
       "      <th>z</th>\n",
       "    </tr>\n",
       "  </thead>\n",
       "  <tbody>\n",
       "    <tr>\n",
       "      <th>0</th>\n",
       "      <td>2.29</td>\n",
       "      <td>Premium</td>\n",
       "      <td>I</td>\n",
       "      <td>VS2</td>\n",
       "      <td>60.8</td>\n",
       "      <td>60.0</td>\n",
       "      <td>18823</td>\n",
       "      <td>8.50</td>\n",
       "      <td>8.47</td>\n",
       "      <td>5.16</td>\n",
       "    </tr>\n",
       "    <tr>\n",
       "      <th>1</th>\n",
       "      <td>2.00</td>\n",
       "      <td>Very Good</td>\n",
       "      <td>G</td>\n",
       "      <td>SI1</td>\n",
       "      <td>63.5</td>\n",
       "      <td>56.0</td>\n",
       "      <td>18818</td>\n",
       "      <td>7.90</td>\n",
       "      <td>7.97</td>\n",
       "      <td>5.04</td>\n",
       "    </tr>\n",
       "    <tr>\n",
       "      <th>2</th>\n",
       "      <td>1.51</td>\n",
       "      <td>Ideal</td>\n",
       "      <td>G</td>\n",
       "      <td>IF</td>\n",
       "      <td>61.7</td>\n",
       "      <td>55.0</td>\n",
       "      <td>18806</td>\n",
       "      <td>7.37</td>\n",
       "      <td>7.41</td>\n",
       "      <td>4.56</td>\n",
       "    </tr>\n",
       "    <tr>\n",
       "      <th>3</th>\n",
       "      <td>2.07</td>\n",
       "      <td>Ideal</td>\n",
       "      <td>G</td>\n",
       "      <td>SI2</td>\n",
       "      <td>62.5</td>\n",
       "      <td>55.0</td>\n",
       "      <td>18804</td>\n",
       "      <td>8.20</td>\n",
       "      <td>8.13</td>\n",
       "      <td>5.11</td>\n",
       "    </tr>\n",
       "    <tr>\n",
       "      <th>4</th>\n",
       "      <td>2.00</td>\n",
       "      <td>Very Good</td>\n",
       "      <td>H</td>\n",
       "      <td>SI1</td>\n",
       "      <td>62.8</td>\n",
       "      <td>57.0</td>\n",
       "      <td>18803</td>\n",
       "      <td>7.95</td>\n",
       "      <td>8.00</td>\n",
       "      <td>5.01</td>\n",
       "    </tr>\n",
       "  </tbody>\n",
       "</table>\n",
       "</div>"
      ],
      "text/plain": [
       "   carat        cut color clarity  depth  table  price     x     y     z\n",
       "0   2.29    Premium     I     VS2   60.8   60.0  18823  8.50  8.47  5.16\n",
       "1   2.00  Very Good     G     SI1   63.5   56.0  18818  7.90  7.97  5.04\n",
       "2   1.51      Ideal     G      IF   61.7   55.0  18806  7.37  7.41  4.56\n",
       "3   2.07      Ideal     G     SI2   62.5   55.0  18804  8.20  8.13  5.11\n",
       "4   2.00  Very Good     H     SI1   62.8   57.0  18803  7.95  8.00  5.01"
      ]
     },
     "execution_count": 26,
     "metadata": {},
     "output_type": "execute_result"
    }
   ],
   "source": [
    "sort_by_price = df.sort_values(\"price\",ascending=False,ignore_index=\"True\")\n",
    "sort_by_price.head()"
   ]
  },
  {
   "cell_type": "markdown",
   "metadata": {
    "id": "_S6eybaD17tM"
   },
   "source": [
    "## 2. carat 은 높은 순으로 depth 는 낮은순으로 정렬을 해서 다음의 결과가 나오도록 출력합니다.\n",
    "<table border=\"1\" class=\"dataframe\">\n",
    "  <thead>\n",
    "    <tr style=\"text-align: right;\">\n",
    "      <th></th>\n",
    "      <th>carat</th>\n",
    "      <th>cut</th>\n",
    "      <th>color</th>\n",
    "      <th>clarity</th>\n",
    "      <th>depth</th>\n",
    "      <th>table</th>\n",
    "      <th>price</th>\n",
    "      <th>x</th>\n",
    "      <th>y</th>\n",
    "      <th>z</th>\n",
    "    </tr>\n",
    "  </thead>\n",
    "  <tbody>\n",
    "    <tr>\n",
    "      <th>27415</th>\n",
    "      <td>5.01</td>\n",
    "      <td>Fair</td>\n",
    "      <td>J</td>\n",
    "      <td>I1</td>\n",
    "      <td>65.5</td>\n",
    "      <td>59.0</td>\n",
    "      <td>18018</td>\n",
    "      <td>10.74</td>\n",
    "      <td>10.54</td>\n",
    "      <td>6.98</td>\n",
    "    </tr>\n",
    "    <tr>\n",
    "      <th>27630</th>\n",
    "      <td>4.50</td>\n",
    "      <td>Fair</td>\n",
    "      <td>J</td>\n",
    "      <td>I1</td>\n",
    "      <td>65.8</td>\n",
    "      <td>58.0</td>\n",
    "      <td>18531</td>\n",
    "      <td>10.23</td>\n",
    "      <td>10.16</td>\n",
    "      <td>6.72</td>\n",
    "    </tr>\n",
    "    <tr>\n",
    "      <th>27130</th>\n",
    "      <td>4.13</td>\n",
    "      <td>Fair</td>\n",
    "      <td>H</td>\n",
    "      <td>I1</td>\n",
    "      <td>64.8</td>\n",
    "      <td>61.0</td>\n",
    "      <td>17329</td>\n",
    "      <td>10.00</td>\n",
    "      <td>9.85</td>\n",
    "      <td>6.43</td>\n",
    "    </tr>\n",
    "    <tr>\n",
    "      <th>25998</th>\n",
    "      <td>4.01</td>\n",
    "      <td>Premium</td>\n",
    "      <td>I</td>\n",
    "      <td>I1</td>\n",
    "      <td>61.0</td>\n",
    "      <td>61.0</td>\n",
    "      <td>15223</td>\n",
    "      <td>10.14</td>\n",
    "      <td>10.10</td>\n",
    "      <td>6.17</td>\n",
    "    </tr>\n",
    "    <tr>\n",
    "      <th>25999</th>\n",
    "      <td>4.01</td>\n",
    "      <td>Premium</td>\n",
    "      <td>J</td>\n",
    "      <td>I1</td>\n",
    "      <td>62.5</td>\n",
    "      <td>62.0</td>\n",
    "      <td>15223</td>\n",
    "      <td>10.02</td>\n",
    "      <td>9.94</td>\n",
    "      <td>6.24</td>\n",
    "    </tr>\n",
    "  </tbody>\n",
    "</table>"
   ]
  },
  {
   "cell_type": "code",
   "execution_count": 34,
   "metadata": {
    "id": "PlRlzwPW17tM",
    "scrolled": true
   },
   "outputs": [
    {
     "data": {
      "text/html": [
       "<div>\n",
       "<style scoped>\n",
       "    .dataframe tbody tr th:only-of-type {\n",
       "        vertical-align: middle;\n",
       "    }\n",
       "\n",
       "    .dataframe tbody tr th {\n",
       "        vertical-align: top;\n",
       "    }\n",
       "\n",
       "    .dataframe thead th {\n",
       "        text-align: right;\n",
       "    }\n",
       "</style>\n",
       "<table border=\"1\" class=\"dataframe\">\n",
       "  <thead>\n",
       "    <tr style=\"text-align: right;\">\n",
       "      <th></th>\n",
       "      <th>carat</th>\n",
       "      <th>cut</th>\n",
       "      <th>color</th>\n",
       "      <th>clarity</th>\n",
       "      <th>depth</th>\n",
       "      <th>table</th>\n",
       "      <th>price</th>\n",
       "      <th>x</th>\n",
       "      <th>y</th>\n",
       "      <th>z</th>\n",
       "    </tr>\n",
       "  </thead>\n",
       "  <tbody>\n",
       "    <tr>\n",
       "      <th>27415</th>\n",
       "      <td>5.01</td>\n",
       "      <td>Fair</td>\n",
       "      <td>J</td>\n",
       "      <td>I1</td>\n",
       "      <td>65.5</td>\n",
       "      <td>59.0</td>\n",
       "      <td>18018</td>\n",
       "      <td>10.74</td>\n",
       "      <td>10.54</td>\n",
       "      <td>6.98</td>\n",
       "    </tr>\n",
       "    <tr>\n",
       "      <th>27630</th>\n",
       "      <td>4.50</td>\n",
       "      <td>Fair</td>\n",
       "      <td>J</td>\n",
       "      <td>I1</td>\n",
       "      <td>65.8</td>\n",
       "      <td>58.0</td>\n",
       "      <td>18531</td>\n",
       "      <td>10.23</td>\n",
       "      <td>10.16</td>\n",
       "      <td>6.72</td>\n",
       "    </tr>\n",
       "    <tr>\n",
       "      <th>27130</th>\n",
       "      <td>4.13</td>\n",
       "      <td>Fair</td>\n",
       "      <td>H</td>\n",
       "      <td>I1</td>\n",
       "      <td>64.8</td>\n",
       "      <td>61.0</td>\n",
       "      <td>17329</td>\n",
       "      <td>10.00</td>\n",
       "      <td>9.85</td>\n",
       "      <td>6.43</td>\n",
       "    </tr>\n",
       "    <tr>\n",
       "      <th>25998</th>\n",
       "      <td>4.01</td>\n",
       "      <td>Premium</td>\n",
       "      <td>I</td>\n",
       "      <td>I1</td>\n",
       "      <td>61.0</td>\n",
       "      <td>61.0</td>\n",
       "      <td>15223</td>\n",
       "      <td>10.14</td>\n",
       "      <td>10.10</td>\n",
       "      <td>6.17</td>\n",
       "    </tr>\n",
       "    <tr>\n",
       "      <th>25999</th>\n",
       "      <td>4.01</td>\n",
       "      <td>Premium</td>\n",
       "      <td>J</td>\n",
       "      <td>I1</td>\n",
       "      <td>62.5</td>\n",
       "      <td>62.0</td>\n",
       "      <td>15223</td>\n",
       "      <td>10.02</td>\n",
       "      <td>9.94</td>\n",
       "      <td>6.24</td>\n",
       "    </tr>\n",
       "  </tbody>\n",
       "</table>\n",
       "</div>"
      ],
      "text/plain": [
       "       carat      cut color clarity  depth  table  price      x      y     z\n",
       "27415   5.01     Fair     J      I1   65.5   59.0  18018  10.74  10.54  6.98\n",
       "27630   4.50     Fair     J      I1   65.8   58.0  18531  10.23  10.16  6.72\n",
       "27130   4.13     Fair     H      I1   64.8   61.0  17329  10.00   9.85  6.43\n",
       "25998   4.01  Premium     I      I1   61.0   61.0  15223  10.14  10.10  6.17\n",
       "25999   4.01  Premium     J      I1   62.5   62.0  15223  10.02   9.94  6.24"
      ]
     },
     "execution_count": 34,
     "metadata": {},
     "output_type": "execute_result"
    }
   ],
   "source": [
    "sort_by_c_d = df.sort_values([\"carat\",\"depth\"],ascending=[False,True])\n",
    "sort_by_c_d.head()"
   ]
  },
  {
   "cell_type": "markdown",
   "metadata": {
    "id": "Ffix5nVZ17tN"
   },
   "source": [
    "## 3. 다음의 결과가 나오도록 groupby를 써서 연산을 하고 count 값이 높은 순으로 정렬하고 상위 3개값만 출력합니다.\n",
    "* 아래의 결과가 출력되도록 합니다.\n",
    "<table border=\"1\" class=\"dataframe\">\n",
    "  <thead>\n",
    "    <tr style=\"text-align: right;\">\n",
    "      <th></th>\n",
    "      <th>count</th>\n",
    "      <th>sum</th>\n",
    "    </tr>\n",
    "    <tr>\n",
    "      <th>clarity</th>\n",
    "      <th></th>\n",
    "      <th></th>\n",
    "    </tr>\n",
    "  </thead>\n",
    "  <tbody>\n",
    "    <tr>\n",
    "      <th>SI1</th>\n",
    "      <td>13065</td>\n",
    "      <td>52207755</td>\n",
    "    </tr>\n",
    "    <tr>\n",
    "      <th>VS2</th>\n",
    "      <td>12258</td>\n",
    "      <td>48112520</td>\n",
    "    </tr>\n",
    "    <tr>\n",
    "      <th>SI2</th>\n",
    "      <td>9194</td>\n",
    "      <td>46549485</td>\n",
    "    </tr>\n",
    "  </tbody>\n",
    "</table>"
   ]
  },
  {
   "cell_type": "code",
   "execution_count": 66,
   "metadata": {
    "id": "7Pgw1uTY17tN"
   },
   "outputs": [
    {
     "data": {
      "text/plain": [
       "clarity\n",
       "SI1     13065\n",
       "VS2     12258\n",
       "SI2      9194\n",
       "VS1      8171\n",
       "VVS2     5066\n",
       "VVS1     3655\n",
       "IF       1790\n",
       "I1        741\n",
       "Name: clarity, dtype: int64"
      ]
     },
     "execution_count": 66,
     "metadata": {},
     "output_type": "execute_result"
    }
   ],
   "source": [
    "df[\"clarity\"].groupby(df[\"clarity\"]).count().sort_values(ascending = False)"
   ]
  },
  {
   "cell_type": "code",
   "execution_count": null,
   "metadata": {},
   "outputs": [],
   "source": [
    "df[\"clarity\"].groupby(df[\"clarity\"]).sum().sort_values(ascending = False)"
   ]
  },
  {
   "cell_type": "markdown",
   "metadata": {
    "id": "4MvYfz0E17tN"
   },
   "source": [
    "## 4. pivot_table을 사용해서 아래의 결과가 출력되도록 합니다. 각 값은 price 의 합계가 되도록 계산합니다.\n",
    "<table border=\"1\" class=\"dataframe\">\n",
    "  <thead>\n",
    "    <tr style=\"text-align: right;\">\n",
    "      <th>color</th>\n",
    "      <th>D</th>\n",
    "      <th>E</th>\n",
    "      <th>F</th>\n",
    "      <th>G</th>\n",
    "      <th>H</th>\n",
    "      <th>I</th>\n",
    "      <th>J</th>\n",
    "    </tr>\n",
    "    <tr>\n",
    "      <th>cut</th>\n",
    "      <th></th>\n",
    "      <th></th>\n",
    "      <th></th>\n",
    "      <th></th>\n",
    "      <th></th>\n",
    "      <th></th>\n",
    "      <th></th>\n",
    "    </tr>\n",
    "  </thead>\n",
    "  <tbody>\n",
    "    <tr>\n",
    "      <th>Fair</th>\n",
    "      <td>699443</td>\n",
    "      <td>824838</td>\n",
    "      <td>1194025</td>\n",
    "      <td>1331126</td>\n",
    "      <td>1556112</td>\n",
    "      <td>819953</td>\n",
    "      <td>592103</td>\n",
    "    </tr>\n",
    "    <tr>\n",
    "      <th>Good</th>\n",
    "      <td>2254363</td>\n",
    "      <td>3194260</td>\n",
    "      <td>3177637</td>\n",
    "      <td>3591553</td>\n",
    "      <td>3001931</td>\n",
    "      <td>2650994</td>\n",
    "      <td>1404271</td>\n",
    "    </tr>\n",
    "    <tr>\n",
    "      <th>Ideal</th>\n",
    "      <td>7450854</td>\n",
    "      <td>10138238</td>\n",
    "      <td>12912518</td>\n",
    "      <td>18171930</td>\n",
    "      <td>12115278</td>\n",
    "      <td>9317974</td>\n",
    "      <td>4406695</td>\n",
    "    </tr>\n",
    "    <tr>\n",
    "      <th>Premium</th>\n",
    "      <td>5820962</td>\n",
    "      <td>8270443</td>\n",
    "      <td>10081319</td>\n",
    "      <td>13160170</td>\n",
    "      <td>12311428</td>\n",
    "      <td>8491146</td>\n",
    "      <td>5086030</td>\n",
    "    </tr>\n",
    "    <tr>\n",
    "      <th>Very Good</th>\n",
    "      <td>5250817</td>\n",
    "      <td>7715165</td>\n",
    "      <td>8177367</td>\n",
    "      <td>8903461</td>\n",
    "      <td>8272552</td>\n",
    "      <td>6328079</td>\n",
    "      <td>3460182</td>\n",
    "    </tr>\n",
    "  </tbody>\n",
    "</table>"
   ]
  },
  {
   "cell_type": "code",
   "execution_count": null,
   "metadata": {
    "id": "7efynsCG17tO"
   },
   "outputs": [],
   "source": [
    "# 버전에 따라 출력순서가 다르게 나옵니다. 순서가 달라도 각 집계 값이 맞으면 상관 없습니다.\n",
    "# table"
   ]
  },
  {
   "cell_type": "code",
   "execution_count": null,
   "metadata": {
    "id": "xw6fpI1u17tO"
   },
   "outputs": [],
   "source": [
    "# 예제와 똑같이 출력하려면 아래 처럼 사용할 수도 있습니다.\n",
    "# table.loc[[\"Fair\", \"Good\", \"Ideal\", \"Premium\", \"Very Good\"]]"
   ]
  },
  {
   "cell_type": "markdown",
   "metadata": {
    "id": "F_smtF6U17tP"
   },
   "source": [
    "## 5. cut 컬럼의 값이 Ideal 이고 color 가 G인 데이터를 가져와서 아래의 컬럼만 출력이 되게 해주세요.\n",
    "* [\"carat\",\"clarity\", \"depth\", \"table\", \"price\"]\n",
    "* 이 때, price 가 높은 순으로 위에서 3개만 출력되게 해주세요.\n",
    "<table border=\"1\" class=\"dataframe\">\n",
    "  <thead>\n",
    "    <tr style=\"text-align: right;\">\n",
    "      <th></th>\n",
    "      <th>carat</th>\n",
    "      <th>clarity</th>\n",
    "      <th>depth</th>\n",
    "      <th>table</th>\n",
    "      <th>price</th>\n",
    "    </tr>\n",
    "  </thead>\n",
    "  <tbody>\n",
    "    <tr>\n",
    "      <th>27747</th>\n",
    "      <td>1.51</td>\n",
    "      <td>IF</td>\n",
    "      <td>61.7</td>\n",
    "      <td>55.0</td>\n",
    "      <td>18806</td>\n",
    "    </tr>\n",
    "    <tr>\n",
    "      <th>27746</th>\n",
    "      <td>2.07</td>\n",
    "      <td>SI2</td>\n",
    "      <td>62.5</td>\n",
    "      <td>55.0</td>\n",
    "      <td>18804</td>\n",
    "    </tr>\n",
    "    <tr>\n",
    "      <th>27741</th>\n",
    "      <td>2.15</td>\n",
    "      <td>SI2</td>\n",
    "      <td>62.6</td>\n",
    "      <td>54.0</td>\n",
    "      <td>18791</td>\n",
    "    </tr>\n",
    "  </tbody>\n",
    "</table>"
   ]
  },
  {
   "cell_type": "code",
   "execution_count": null,
   "metadata": {
    "id": "dwm0w2L-17tP"
   },
   "outputs": [],
   "source": []
  },
  {
   "cell_type": "markdown",
   "metadata": {
    "id": "LU5coNx417tP"
   },
   "source": [
    "## 6. 다음의 결과가 출력되도록 새로운 컬럼을 추가하고 새로만든 컬럼의 값을 value_counts() 로 구해보세요.\n",
    "1. price 컬럼에서 900 보다 작은 값(900포함 안 됨)을 찾아서 category 라는 새로운 컬럼을 만들고 \"low\"라는 값을 넣습니다.\n",
    "1. price 컬럼에서 5000 보다 큰 값(5000 포함 안 됨)을 찾아서 category 라는 새로운 컬럼에 \"high\"라는 값을 넣습니다.\n",
    "1. 나머지 값은 fillna 를 통해 \"medium\" 이라는 값으로 채웁니다.\n",
    "그리고 새로만든 df[\"category\"] 컬럼의 카테고리 값을 집계합니다. 아래의 값이 출력됩니다.\n",
    "```\n",
    "medium    26899\n",
    "high      14714\n",
    "low       12327\n",
    "Name: category, dtype: int64\n",
    "```"
   ]
  },
  {
   "cell_type": "code",
   "execution_count": null,
   "metadata": {
    "id": "zxiT4IMT17tP"
   },
   "outputs": [],
   "source": []
  },
  {
   "cell_type": "markdown",
   "metadata": {
    "id": "hIv_PSeT17tP"
   },
   "source": [
    "## 7. clarity 컬럼의 value_counts 로 위에서 3개의 값을 가져오고 top이라는 변수에 담아주세요.\n",
    "* top 이라는 변수에서 아래의 index 값만 추출합니다. 그리고 아래의 결과를 top_index 라는 변수에 담습니다.\n",
    "```\n",
    "CategoricalIndex(['SI1', 'VS2', 'SI2'], categories=['IF', 'VVS1', 'VVS2', 'VS1', 'VS2', 'SI1', 'SI2', 'I1'], ordered=False, dtype='category')\n",
    "```"
   ]
  },
  {
   "cell_type": "code",
   "execution_count": null,
   "metadata": {
    "id": "2fcGi29G17tQ"
   },
   "outputs": [],
   "source": [
    "# clarity 컬럼의 value_counts 로 위에서 3개의 값을 가져오고 top이라는 변수에 담아주세요.\n",
    "# 그리고 아래 코드를 실행했을 때 categories=['IF', 'VVS1', 'VVS2', 'VS1', 'VS2', 'SI1', 'SI2', 'I1'], \n",
    "# ordered=False, dtype='category')가 출력되게 해주세요.\n",
    "# 판다스 버전의 차이로 출력되는 내용이 아래와 같을 수 있습니다.\n",
    "\n"
   ]
  },
  {
   "cell_type": "markdown",
   "metadata": {
    "id": "2ZX7Bnkx17tQ"
   },
   "source": [
    "## 8. 위에서 추출한 top_index 변수에 담긴 값을 \"clarity\" 컬럼에서 isin 으로 가져오세요.\n",
    "df_top 이라는 변수에 담고 해당 변수에 담긴 값의 크기가 다음과 같이 출력되도록 해주세요. `(34517, 11)`"
   ]
  },
  {
   "cell_type": "code",
   "execution_count": null,
   "metadata": {
    "id": "LSwwLZWl17tQ"
   },
   "outputs": [],
   "source": []
  },
  {
   "cell_type": "markdown",
   "metadata": {
    "id": "tk5qqxOH17tQ"
   },
   "source": [
    "## 9. 위에서 구한 `df_top` 변수에 담긴 데이터로 아래의 그래프가 그려지도록 해주세요.\n",
    "<img src=\"https://i.imgur.com/VADh2ke.png\" width=\"400\">"
   ]
  },
  {
   "cell_type": "code",
   "execution_count": null,
   "metadata": {
    "id": "9VDibQam17tR"
   },
   "outputs": [],
   "source": []
  },
  {
   "cell_type": "markdown",
   "metadata": {
    "id": "uCcBYfhj17tR"
   },
   "source": [
    "## 10.위에서 구한 `df_top` 변수에 담긴 데이터로 아래의 그래프가 그려지도록 해주세요.\n",
    "<img src=\"https://i.imgur.com/Xf8afVS.png\" width=\"400\">"
   ]
  },
  {
   "cell_type": "code",
   "execution_count": null,
   "metadata": {
    "id": "57ASma5I17tR"
   },
   "outputs": [],
   "source": [
    "# seaborn 버전 업데이트로 출력 모습이 다릅니다.\n"
   ]
  },
  {
   "cell_type": "markdown",
   "metadata": {
    "id": "yeLRGyAY17tR"
   },
   "source": [
    "## 11. 판다스를 사용해서 전체 수치변수에 대한 히스토그램을 그려주세요. 막대의 개수(bins)는 100개로 합니다.\n",
    "\n",
    "<img src=\"https://i.imgur.com/hX32byV.png\" width=\"500\"> "
   ]
  },
  {
   "cell_type": "code",
   "execution_count": null,
   "metadata": {
    "id": "sMkJKAMR17tR"
   },
   "outputs": [],
   "source": []
  },
  {
   "cell_type": "markdown",
   "metadata": {
    "id": "5P04L7Lk17tR"
   },
   "source": [
    "## 12. plotly를 통해 \"carat\", \"depth\", \"cut\" 을 scatterplot으로 다음과 같이 시각화 해주세요.\n",
    "\n",
    "<img src=\"https://i.imgur.com/wFM9v2t.png\" width=\"700\"> "
   ]
  },
  {
   "cell_type": "code",
   "execution_count": null,
   "metadata": {
    "id": "19-wrfZ117tR"
   },
   "outputs": [],
   "source": []
  },
  {
   "cell_type": "markdown",
   "metadata": {
    "id": "Lk7BJuko17tS"
   },
   "source": [
    "## 13. plotly를 통해 \"carat\"별 \"price\"의 분포를 \"cut\"별로 다른 색상으로 scatterplot으로 다음과 같이 시각화 해주세요.\n",
    "\n",
    "<img src=\"https://i.imgur.com/wptSV5h.png\" width=\"700\"> "
   ]
  },
  {
   "cell_type": "code",
   "execution_count": null,
   "metadata": {
    "id": "qImM8Igy17tS"
   },
   "outputs": [],
   "source": []
  },
  {
   "cell_type": "code",
   "execution_count": null,
   "metadata": {
    "id": "LzfY5q1t17tS"
   },
   "outputs": [],
   "source": []
  },
  {
   "cell_type": "markdown",
   "metadata": {
    "id": "69ni7pQp17tS"
   },
   "source": [
    "## 14. plotly를 통해 carat, price 의 scatterplot을 그려주세요. 아래 이미지 처럼 박스, 바이올린 플롯도 함께 그려주세요.\n",
    "\n",
    "<img src=\"https://i.imgur.com/RST46TI.png\" width=\"700\"> "
   ]
  },
  {
   "cell_type": "code",
   "execution_count": null,
   "metadata": {
    "id": "o6emCk3b17tS"
   },
   "outputs": [],
   "source": []
  },
  {
   "cell_type": "markdown",
   "metadata": {
    "id": "DS47KSg417tS"
   },
   "source": [
    "## 15. plotly를 통해 다음 그림과 같이 scatter_matrix 를 그리고 cut 별로 색상을 다르게 표현해 주세요.\n",
    "\n",
    "<img src=\"https://i.imgur.com/Pz4R7mx.png\" width=\"700\"> "
   ]
  },
  {
   "cell_type": "code",
   "execution_count": null,
   "metadata": {
    "id": "aCtk7QAn17tS"
   },
   "outputs": [],
   "source": [
    "# height=1000 으로 세로 길이를 변경할 수 있습니다.\n"
   ]
  },
  {
   "cell_type": "markdown",
   "metadata": {
    "id": "dawtnv0M17tT"
   },
   "source": [
    "## 16. plotly를 통해 cut별 빈도수를 histogram 으로 그려주세요.\n",
    "* histfunc=\"count\"로 빈도수를 그릴 수 있습니다.\n",
    "\n",
    "<img src=\"https://i.imgur.com/pnQGp2s.png\" width=\"700\"> "
   ]
  },
  {
   "cell_type": "code",
   "execution_count": null,
   "metadata": {
    "id": "q6sF85hD17tT"
   },
   "outputs": [],
   "source": []
  },
  {
   "cell_type": "markdown",
   "metadata": {
    "id": "7a05hHlj17tT"
   },
   "source": [
    "## 17. plotly를 통해 \"color\" 별 빈도수를 histogram 으로 그려주세요. 색상에는 cut 변수를 지정합니다. \n",
    "* histfunc=\"count\"로 빈도수를 그릴 수 있습니다.\n",
    "\n",
    "\n",
    "<img src=\"https://i.imgur.com/Tdarv5S.png\" width=\"700\"> "
   ]
  },
  {
   "cell_type": "code",
   "execution_count": null,
   "metadata": {
    "id": "LVaBON7J17tT"
   },
   "outputs": [],
   "source": []
  },
  {
   "cell_type": "markdown",
   "metadata": {
    "id": "inMBKP0t17tT"
   },
   "source": [
    "## 18. plotly를 통해 \"color\" 별 빈도수를 histogram 으로 그려주세요.  cut 변수에 따라 서브플롯을 그려주세요. \n",
    "* histfunc=\"count\"로 빈도수를 그릴 수 있습니다.\n",
    "\n",
    "\n",
    "<img src=\"https://i.imgur.com/5HIm5Jn.png\" width=\"700\"> "
   ]
  },
  {
   "cell_type": "code",
   "execution_count": null,
   "metadata": {
    "id": "xugG1BwF17tT"
   },
   "outputs": [],
   "source": []
  },
  {
   "cell_type": "markdown",
   "metadata": {
    "id": "NNCcclVA17tT"
   },
   "source": [
    "## 19. plotly를 통해 cut별 price의 합계를 구해주세요.\n",
    "* histogram으로 시각화 하고 histfunc=\"sum\"으로 그릴 수 있습니다.\n",
    "\n",
    "<img src=\"https://i.imgur.com/0ET01BV.png\" width=\"700\">"
   ]
  },
  {
   "cell_type": "code",
   "execution_count": null,
   "metadata": {
    "id": "s9UbPVdW17tT"
   },
   "outputs": [],
   "source": []
  },
  {
   "cell_type": "markdown",
   "metadata": {
    "id": "6sAF-Unp17tT"
   },
   "source": [
    "## 20. plotly를 통해 cut별 price의 평균을 구해주세요.\n",
    "* histogram으로 시각화 하고 histfunc=\"avg\"로 그릴 수 있습니다.\n",
    "\n",
    "<img src=\"https://i.imgur.com/QQOPNF8.png\" width=\"700\">"
   ]
  },
  {
   "cell_type": "code",
   "execution_count": null,
   "metadata": {
    "id": "BbiCESE117tT"
   },
   "outputs": [],
   "source": []
  },
  {
   "cell_type": "markdown",
   "metadata": {
    "id": "UPmPMwBM17tU"
   },
   "source": [
    "## 21. plotly를 통해 cut 별 price 의 사분위수를 boxplot으로 시각화 해주세요.\n",
    "\n",
    "\n",
    "<img src=\"https://i.imgur.com/xrFPXfT.png\" width=\"700\">"
   ]
  },
  {
   "cell_type": "code",
   "execution_count": null,
   "metadata": {
    "id": "NVAKdxYo17tU"
   },
   "outputs": [],
   "source": []
  },
  {
   "cell_type": "markdown",
   "metadata": {
    "id": "G3jjYNu317tU"
   },
   "source": [
    "## 22. plotly를 통해 \"cut\"별 \"price\" 가격의 분포를 violinplot으로 시각화 해주세요.\n",
    "\n",
    "\n",
    "<img src=\"https://i.imgur.com/l2dL12g.png\" width=\"700\">"
   ]
  },
  {
   "cell_type": "code",
   "execution_count": null,
   "metadata": {
    "id": "fx87iaCN17tU"
   },
   "outputs": [],
   "source": []
  },
  {
   "cell_type": "code",
   "execution_count": null,
   "metadata": {
    "id": "V-mHkRUc17tU"
   },
   "outputs": [],
   "source": []
  }
 ],
 "metadata": {
  "colab": {
   "provenance": []
  },
  "kernelspec": {
   "display_name": "Python 3 (ipykernel)",
   "language": "python",
   "name": "python3"
  },
  "language_info": {
   "codemirror_mode": {
    "name": "ipython",
    "version": 3
   },
   "file_extension": ".py",
   "mimetype": "text/x-python",
   "name": "python",
   "nbconvert_exporter": "python",
   "pygments_lexer": "ipython3",
   "version": "3.9.12"
  },
  "toc": {
   "base_numbering": 1,
   "nav_menu": {},
   "number_sections": true,
   "sideBar": true,
   "skip_h1_title": false,
   "title_cell": "Table of Contents",
   "title_sidebar": "Contents",
   "toc_cell": false,
   "toc_position": {},
   "toc_section_display": true,
   "toc_window_display": false
  },
  "varInspector": {
   "cols": {
    "lenName": 16,
    "lenType": 16,
    "lenVar": 40
   },
   "kernels_config": {
    "python": {
     "delete_cmd_postfix": "",
     "delete_cmd_prefix": "del ",
     "library": "var_list.py",
     "varRefreshCmd": "print(var_dic_list())"
    },
    "r": {
     "delete_cmd_postfix": ") ",
     "delete_cmd_prefix": "rm(",
     "library": "var_list.r",
     "varRefreshCmd": "cat(var_dic_list()) "
    }
   },
   "types_to_exclude": [
    "module",
    "function",
    "builtin_function_or_method",
    "instance",
    "_Feature"
   ],
   "window_display": false
  }
 },
 "nbformat": 4,
 "nbformat_minor": 1
}
